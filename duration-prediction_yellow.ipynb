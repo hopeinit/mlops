{
 "cells": [
  {
   "cell_type": "code",
   "execution_count": 1,
   "id": "b2bd82d7",
   "metadata": {},
   "outputs": [
    {
     "name": "stdout",
     "output_type": "stream",
     "text": [
      "Python 3.12.7\n"
     ]
    }
   ],
   "source": [
    "!python -V"
   ]
  },
  {
   "cell_type": "code",
   "execution_count": 2,
   "id": "41062d8a",
   "metadata": {},
   "outputs": [],
   "source": [
    "import pandas as pd"
   ]
  },
  {
   "cell_type": "code",
   "execution_count": 3,
   "id": "c984c564",
   "metadata": {},
   "outputs": [],
   "source": [
    "import pickle"
   ]
  },
  {
   "cell_type": "code",
   "execution_count": 4,
   "id": "4add538c",
   "metadata": {},
   "outputs": [],
   "source": [
    "import seaborn as sns\n",
    "import matplotlib.pyplot as plt"
   ]
  },
  {
   "cell_type": "code",
   "execution_count": 5,
   "id": "8b135c2b",
   "metadata": {},
   "outputs": [],
   "source": [
    "from sklearn.feature_extraction import DictVectorizer\n",
    "from sklearn.linear_model import LinearRegression\n",
    "from sklearn.linear_model import Lasso\n",
    "from sklearn.linear_model import Ridge\n",
    "\n",
    "from sklearn.metrics import root_mean_squared_error"
   ]
  },
  {
   "cell_type": "code",
   "execution_count": 34,
   "id": "8e013caf",
   "metadata": {},
   "outputs": [],
   "source": [
    "df = pd.read_parquet('./yellow_tripdata_2023-01.parquet')"
   ]
  },
  {
   "cell_type": "code",
   "execution_count": 35,
   "id": "982d898b-9a49-45f9-bd1e-153fa74d800a",
   "metadata": {},
   "outputs": [
    {
     "data": {
      "text/html": [
       "<div>\n",
       "<style scoped>\n",
       "    .dataframe tbody tr th:only-of-type {\n",
       "        vertical-align: middle;\n",
       "    }\n",
       "\n",
       "    .dataframe tbody tr th {\n",
       "        vertical-align: top;\n",
       "    }\n",
       "\n",
       "    .dataframe thead th {\n",
       "        text-align: right;\n",
       "    }\n",
       "</style>\n",
       "<table border=\"1\" class=\"dataframe\">\n",
       "  <thead>\n",
       "    <tr style=\"text-align: right;\">\n",
       "      <th></th>\n",
       "      <th>VendorID</th>\n",
       "      <th>tpep_pickup_datetime</th>\n",
       "      <th>tpep_dropoff_datetime</th>\n",
       "      <th>passenger_count</th>\n",
       "      <th>trip_distance</th>\n",
       "      <th>RatecodeID</th>\n",
       "      <th>store_and_fwd_flag</th>\n",
       "      <th>PULocationID</th>\n",
       "      <th>DOLocationID</th>\n",
       "      <th>payment_type</th>\n",
       "      <th>fare_amount</th>\n",
       "      <th>extra</th>\n",
       "      <th>mta_tax</th>\n",
       "      <th>tip_amount</th>\n",
       "      <th>tolls_amount</th>\n",
       "      <th>improvement_surcharge</th>\n",
       "      <th>total_amount</th>\n",
       "      <th>congestion_surcharge</th>\n",
       "      <th>airport_fee</th>\n",
       "    </tr>\n",
       "  </thead>\n",
       "  <tbody>\n",
       "    <tr>\n",
       "      <th>0</th>\n",
       "      <td>2</td>\n",
       "      <td>2023-01-01 00:32:10</td>\n",
       "      <td>2023-01-01 00:40:36</td>\n",
       "      <td>1.00</td>\n",
       "      <td>0.97</td>\n",
       "      <td>1.00</td>\n",
       "      <td>N</td>\n",
       "      <td>161</td>\n",
       "      <td>141</td>\n",
       "      <td>2</td>\n",
       "      <td>9.30</td>\n",
       "      <td>1.00</td>\n",
       "      <td>0.50</td>\n",
       "      <td>0.00</td>\n",
       "      <td>0.00</td>\n",
       "      <td>1.00</td>\n",
       "      <td>14.30</td>\n",
       "      <td>2.50</td>\n",
       "      <td>0.00</td>\n",
       "    </tr>\n",
       "    <tr>\n",
       "      <th>1</th>\n",
       "      <td>2</td>\n",
       "      <td>2023-01-01 00:55:08</td>\n",
       "      <td>2023-01-01 01:01:27</td>\n",
       "      <td>1.00</td>\n",
       "      <td>1.10</td>\n",
       "      <td>1.00</td>\n",
       "      <td>N</td>\n",
       "      <td>43</td>\n",
       "      <td>237</td>\n",
       "      <td>1</td>\n",
       "      <td>7.90</td>\n",
       "      <td>1.00</td>\n",
       "      <td>0.50</td>\n",
       "      <td>4.00</td>\n",
       "      <td>0.00</td>\n",
       "      <td>1.00</td>\n",
       "      <td>16.90</td>\n",
       "      <td>2.50</td>\n",
       "      <td>0.00</td>\n",
       "    </tr>\n",
       "    <tr>\n",
       "      <th>2</th>\n",
       "      <td>2</td>\n",
       "      <td>2023-01-01 00:25:04</td>\n",
       "      <td>2023-01-01 00:37:49</td>\n",
       "      <td>1.00</td>\n",
       "      <td>2.51</td>\n",
       "      <td>1.00</td>\n",
       "      <td>N</td>\n",
       "      <td>48</td>\n",
       "      <td>238</td>\n",
       "      <td>1</td>\n",
       "      <td>14.90</td>\n",
       "      <td>1.00</td>\n",
       "      <td>0.50</td>\n",
       "      <td>15.00</td>\n",
       "      <td>0.00</td>\n",
       "      <td>1.00</td>\n",
       "      <td>34.90</td>\n",
       "      <td>2.50</td>\n",
       "      <td>0.00</td>\n",
       "    </tr>\n",
       "    <tr>\n",
       "      <th>3</th>\n",
       "      <td>1</td>\n",
       "      <td>2023-01-01 00:03:48</td>\n",
       "      <td>2023-01-01 00:13:25</td>\n",
       "      <td>0.00</td>\n",
       "      <td>1.90</td>\n",
       "      <td>1.00</td>\n",
       "      <td>N</td>\n",
       "      <td>138</td>\n",
       "      <td>7</td>\n",
       "      <td>1</td>\n",
       "      <td>12.10</td>\n",
       "      <td>7.25</td>\n",
       "      <td>0.50</td>\n",
       "      <td>0.00</td>\n",
       "      <td>0.00</td>\n",
       "      <td>1.00</td>\n",
       "      <td>20.85</td>\n",
       "      <td>0.00</td>\n",
       "      <td>1.25</td>\n",
       "    </tr>\n",
       "    <tr>\n",
       "      <th>4</th>\n",
       "      <td>2</td>\n",
       "      <td>2023-01-01 00:10:29</td>\n",
       "      <td>2023-01-01 00:21:19</td>\n",
       "      <td>1.00</td>\n",
       "      <td>1.43</td>\n",
       "      <td>1.00</td>\n",
       "      <td>N</td>\n",
       "      <td>107</td>\n",
       "      <td>79</td>\n",
       "      <td>1</td>\n",
       "      <td>11.40</td>\n",
       "      <td>1.00</td>\n",
       "      <td>0.50</td>\n",
       "      <td>3.28</td>\n",
       "      <td>0.00</td>\n",
       "      <td>1.00</td>\n",
       "      <td>19.68</td>\n",
       "      <td>2.50</td>\n",
       "      <td>0.00</td>\n",
       "    </tr>\n",
       "    <tr>\n",
       "      <th>...</th>\n",
       "      <td>...</td>\n",
       "      <td>...</td>\n",
       "      <td>...</td>\n",
       "      <td>...</td>\n",
       "      <td>...</td>\n",
       "      <td>...</td>\n",
       "      <td>...</td>\n",
       "      <td>...</td>\n",
       "      <td>...</td>\n",
       "      <td>...</td>\n",
       "      <td>...</td>\n",
       "      <td>...</td>\n",
       "      <td>...</td>\n",
       "      <td>...</td>\n",
       "      <td>...</td>\n",
       "      <td>...</td>\n",
       "      <td>...</td>\n",
       "      <td>...</td>\n",
       "      <td>...</td>\n",
       "    </tr>\n",
       "    <tr>\n",
       "      <th>3066761</th>\n",
       "      <td>2</td>\n",
       "      <td>2023-01-31 23:58:34</td>\n",
       "      <td>2023-02-01 00:12:33</td>\n",
       "      <td>NaN</td>\n",
       "      <td>3.05</td>\n",
       "      <td>NaN</td>\n",
       "      <td>None</td>\n",
       "      <td>107</td>\n",
       "      <td>48</td>\n",
       "      <td>0</td>\n",
       "      <td>15.80</td>\n",
       "      <td>0.00</td>\n",
       "      <td>0.50</td>\n",
       "      <td>3.96</td>\n",
       "      <td>0.00</td>\n",
       "      <td>1.00</td>\n",
       "      <td>23.76</td>\n",
       "      <td>NaN</td>\n",
       "      <td>NaN</td>\n",
       "    </tr>\n",
       "    <tr>\n",
       "      <th>3066762</th>\n",
       "      <td>2</td>\n",
       "      <td>2023-01-31 23:31:09</td>\n",
       "      <td>2023-01-31 23:50:36</td>\n",
       "      <td>NaN</td>\n",
       "      <td>5.80</td>\n",
       "      <td>NaN</td>\n",
       "      <td>None</td>\n",
       "      <td>112</td>\n",
       "      <td>75</td>\n",
       "      <td>0</td>\n",
       "      <td>22.43</td>\n",
       "      <td>0.00</td>\n",
       "      <td>0.50</td>\n",
       "      <td>2.64</td>\n",
       "      <td>0.00</td>\n",
       "      <td>1.00</td>\n",
       "      <td>29.07</td>\n",
       "      <td>NaN</td>\n",
       "      <td>NaN</td>\n",
       "    </tr>\n",
       "    <tr>\n",
       "      <th>3066763</th>\n",
       "      <td>2</td>\n",
       "      <td>2023-01-31 23:01:05</td>\n",
       "      <td>2023-01-31 23:25:36</td>\n",
       "      <td>NaN</td>\n",
       "      <td>4.67</td>\n",
       "      <td>NaN</td>\n",
       "      <td>None</td>\n",
       "      <td>114</td>\n",
       "      <td>239</td>\n",
       "      <td>0</td>\n",
       "      <td>17.61</td>\n",
       "      <td>0.00</td>\n",
       "      <td>0.50</td>\n",
       "      <td>5.32</td>\n",
       "      <td>0.00</td>\n",
       "      <td>1.00</td>\n",
       "      <td>26.93</td>\n",
       "      <td>NaN</td>\n",
       "      <td>NaN</td>\n",
       "    </tr>\n",
       "    <tr>\n",
       "      <th>3066764</th>\n",
       "      <td>2</td>\n",
       "      <td>2023-01-31 23:40:00</td>\n",
       "      <td>2023-01-31 23:53:00</td>\n",
       "      <td>NaN</td>\n",
       "      <td>3.15</td>\n",
       "      <td>NaN</td>\n",
       "      <td>None</td>\n",
       "      <td>230</td>\n",
       "      <td>79</td>\n",
       "      <td>0</td>\n",
       "      <td>18.15</td>\n",
       "      <td>0.00</td>\n",
       "      <td>0.50</td>\n",
       "      <td>4.43</td>\n",
       "      <td>0.00</td>\n",
       "      <td>1.00</td>\n",
       "      <td>26.58</td>\n",
       "      <td>NaN</td>\n",
       "      <td>NaN</td>\n",
       "    </tr>\n",
       "    <tr>\n",
       "      <th>3066765</th>\n",
       "      <td>2</td>\n",
       "      <td>2023-01-31 23:07:32</td>\n",
       "      <td>2023-01-31 23:21:56</td>\n",
       "      <td>NaN</td>\n",
       "      <td>2.85</td>\n",
       "      <td>NaN</td>\n",
       "      <td>None</td>\n",
       "      <td>262</td>\n",
       "      <td>143</td>\n",
       "      <td>0</td>\n",
       "      <td>15.97</td>\n",
       "      <td>0.00</td>\n",
       "      <td>0.50</td>\n",
       "      <td>2.00</td>\n",
       "      <td>0.00</td>\n",
       "      <td>1.00</td>\n",
       "      <td>21.97</td>\n",
       "      <td>NaN</td>\n",
       "      <td>NaN</td>\n",
       "    </tr>\n",
       "  </tbody>\n",
       "</table>\n",
       "<p>3066766 rows × 19 columns</p>\n",
       "</div>"
      ],
      "text/plain": [
       "         VendorID tpep_pickup_datetime tpep_dropoff_datetime  \\\n",
       "0               2  2023-01-01 00:32:10   2023-01-01 00:40:36   \n",
       "1               2  2023-01-01 00:55:08   2023-01-01 01:01:27   \n",
       "2               2  2023-01-01 00:25:04   2023-01-01 00:37:49   \n",
       "3               1  2023-01-01 00:03:48   2023-01-01 00:13:25   \n",
       "4               2  2023-01-01 00:10:29   2023-01-01 00:21:19   \n",
       "...           ...                  ...                   ...   \n",
       "3066761         2  2023-01-31 23:58:34   2023-02-01 00:12:33   \n",
       "3066762         2  2023-01-31 23:31:09   2023-01-31 23:50:36   \n",
       "3066763         2  2023-01-31 23:01:05   2023-01-31 23:25:36   \n",
       "3066764         2  2023-01-31 23:40:00   2023-01-31 23:53:00   \n",
       "3066765         2  2023-01-31 23:07:32   2023-01-31 23:21:56   \n",
       "\n",
       "             passenger_count        trip_distance           RatecodeID  \\\n",
       "0                       1.00                 0.97                 1.00   \n",
       "1                       1.00                 1.10                 1.00   \n",
       "2                       1.00                 2.51                 1.00   \n",
       "3                       0.00                 1.90                 1.00   \n",
       "4                       1.00                 1.43                 1.00   \n",
       "...                      ...                  ...                  ...   \n",
       "3066761                  NaN                 3.05                  NaN   \n",
       "3066762                  NaN                 5.80                  NaN   \n",
       "3066763                  NaN                 4.67                  NaN   \n",
       "3066764                  NaN                 3.15                  NaN   \n",
       "3066765                  NaN                 2.85                  NaN   \n",
       "\n",
       "        store_and_fwd_flag  PULocationID  DOLocationID  payment_type  \\\n",
       "0                        N           161           141             2   \n",
       "1                        N            43           237             1   \n",
       "2                        N            48           238             1   \n",
       "3                        N           138             7             1   \n",
       "4                        N           107            79             1   \n",
       "...                    ...           ...           ...           ...   \n",
       "3066761               None           107            48             0   \n",
       "3066762               None           112            75             0   \n",
       "3066763               None           114           239             0   \n",
       "3066764               None           230            79             0   \n",
       "3066765               None           262           143             0   \n",
       "\n",
       "                 fare_amount                extra              mta_tax  \\\n",
       "0                       9.30                 1.00                 0.50   \n",
       "1                       7.90                 1.00                 0.50   \n",
       "2                      14.90                 1.00                 0.50   \n",
       "3                      12.10                 7.25                 0.50   \n",
       "4                      11.40                 1.00                 0.50   \n",
       "...                      ...                  ...                  ...   \n",
       "3066761                15.80                 0.00                 0.50   \n",
       "3066762                22.43                 0.00                 0.50   \n",
       "3066763                17.61                 0.00                 0.50   \n",
       "3066764                18.15                 0.00                 0.50   \n",
       "3066765                15.97                 0.00                 0.50   \n",
       "\n",
       "                  tip_amount         tolls_amount  improvement_surcharge  \\\n",
       "0                       0.00                 0.00                   1.00   \n",
       "1                       4.00                 0.00                   1.00   \n",
       "2                      15.00                 0.00                   1.00   \n",
       "3                       0.00                 0.00                   1.00   \n",
       "4                       3.28                 0.00                   1.00   \n",
       "...                      ...                  ...                    ...   \n",
       "3066761                 3.96                 0.00                   1.00   \n",
       "3066762                 2.64                 0.00                   1.00   \n",
       "3066763                 5.32                 0.00                   1.00   \n",
       "3066764                 4.43                 0.00                   1.00   \n",
       "3066765                 2.00                 0.00                   1.00   \n",
       "\n",
       "                total_amount  congestion_surcharge          airport_fee  \n",
       "0                      14.30                  2.50                 0.00  \n",
       "1                      16.90                  2.50                 0.00  \n",
       "2                      34.90                  2.50                 0.00  \n",
       "3                      20.85                  0.00                 1.25  \n",
       "4                      19.68                  2.50                 0.00  \n",
       "...                      ...                   ...                  ...  \n",
       "3066761                23.76                   NaN                  NaN  \n",
       "3066762                29.07                   NaN                  NaN  \n",
       "3066763                26.93                   NaN                  NaN  \n",
       "3066764                26.58                   NaN                  NaN  \n",
       "3066765                21.97                   NaN                  NaN  \n",
       "\n",
       "[3066766 rows x 19 columns]"
      ]
     },
     "execution_count": 35,
     "metadata": {},
     "output_type": "execute_result"
    }
   ],
   "source": [
    "df"
   ]
  },
  {
   "cell_type": "code",
   "execution_count": 36,
   "id": "85d601d8-67af-4eaa-a3c4-6c5659efedb4",
   "metadata": {},
   "outputs": [],
   "source": [
    "df['duration'] = df.tpep_dropoff_datetime - df.tpep_pickup_datetime\n",
    "df.duration = df.duration.apply(lambda td: td.total_seconds() / 60)"
   ]
  },
  {
   "cell_type": "code",
   "execution_count": 37,
   "id": "43500dc3-f264-4a88-a6f7-dc2b9ba80b62",
   "metadata": {},
   "outputs": [
    {
     "data": {
      "text/plain": [
       "42.594351241920904"
      ]
     },
     "execution_count": 37,
     "metadata": {},
     "output_type": "execute_result"
    }
   ],
   "source": [
    "df.duration.std()"
   ]
  },
  {
   "cell_type": "code",
   "execution_count": 38,
   "id": "759d04a5-b1cd-4965-be47-2f999037a563",
   "metadata": {},
   "outputs": [],
   "source": [
    "pd.options.display.float_format = '{:20,.2f}'.format"
   ]
  },
  {
   "cell_type": "code",
   "execution_count": 39,
   "id": "1ce381b7-9056-4074-8c6d-bbea0e3c2ea9",
   "metadata": {},
   "outputs": [
    {
     "data": {
      "text/plain": [
       "count           3,066,766.00\n",
       "mean                   15.67\n",
       "std                    42.59\n",
       "min                   -29.20\n",
       "25%                     7.12\n",
       "50%                    11.52\n",
       "75%                    18.30\n",
       "max                10,029.18\n",
       "Name: duration, dtype: float64"
      ]
     },
     "execution_count": 39,
     "metadata": {},
     "output_type": "execute_result"
    }
   ],
   "source": [
    "df.duration.describe()"
   ]
  },
  {
   "cell_type": "code",
   "execution_count": 40,
   "id": "96b4f312-0281-40c3-bc8b-39cf619989a4",
   "metadata": {},
   "outputs": [
    {
     "data": {
      "text/plain": [
       "count           3,066,766.00\n",
       "mean                   15.67\n",
       "std                    42.59\n",
       "min                   -29.20\n",
       "50%                    11.52\n",
       "95%                    36.47\n",
       "98%                    48.73\n",
       "99%                    57.25\n",
       "max                10,029.18\n",
       "Name: duration, dtype: float64"
      ]
     },
     "execution_count": 40,
     "metadata": {},
     "output_type": "execute_result"
    }
   ],
   "source": [
    "df.duration.describe(percentiles = [0.95, 0.98, 0.99])"
   ]
  },
  {
   "cell_type": "code",
   "execution_count": 41,
   "id": "a8c1b398-417f-49d5-8e3f-200e279968cd",
   "metadata": {},
   "outputs": [],
   "source": [
    "df = df[(df.duration >= 1) & (df.duration <= 60)]"
   ]
  },
  {
   "cell_type": "code",
   "execution_count": 42,
   "id": "80852434-96a4-4c9d-a8cc-8a197677ee3b",
   "metadata": {},
   "outputs": [
    {
     "data": {
      "text/plain": [
       "count           3,009,173.00\n",
       "mean                   14.20\n",
       "std                     9.94\n",
       "min                     1.00\n",
       "25%                     7.22\n",
       "50%                    11.55\n",
       "75%                    18.18\n",
       "max                    60.00\n",
       "Name: duration, dtype: float64"
      ]
     },
     "execution_count": 42,
     "metadata": {},
     "output_type": "execute_result"
    }
   ],
   "source": [
    "df.duration.describe()"
   ]
  },
  {
   "cell_type": "code",
   "execution_count": 43,
   "id": "c84bdafc-f1bc-43b5-948b-01f1794eca0d",
   "metadata": {},
   "outputs": [
    {
     "data": {
      "text/plain": [
       "98.1220282212598"
      ]
     },
     "execution_count": 43,
     "metadata": {},
     "output_type": "execute_result"
    }
   ],
   "source": [
    "3009173/3066766*100"
   ]
  },
  {
   "cell_type": "code",
   "execution_count": 44,
   "id": "aa6498b9-edc3-465e-b214-b528edacd539",
   "metadata": {},
   "outputs": [
    {
     "name": "stderr",
     "output_type": "stream",
     "text": [
      "/var/folders/_h/28b2k0sj2gj2nppkwcgpr40m0000gn/T/ipykernel_85780/21011638.py:4: SettingWithCopyWarning: \n",
      "A value is trying to be set on a copy of a slice from a DataFrame.\n",
      "Try using .loc[row_indexer,col_indexer] = value instead\n",
      "\n",
      "See the caveats in the documentation: https://pandas.pydata.org/pandas-docs/stable/user_guide/indexing.html#returning-a-view-versus-a-copy\n",
      "  df[categorical] = df[categorical].astype(str)\n"
     ]
    }
   ],
   "source": [
    "categorical = ['PULocationID', 'DOLocationID']\n",
    "# numerical = ['trip_distance']\n",
    "\n",
    "df[categorical] = df[categorical].astype(str)"
   ]
  },
  {
   "cell_type": "code",
   "execution_count": 45,
   "id": "5940b0c2-823b-4ccd-88ae-eebbce616c0b",
   "metadata": {},
   "outputs": [],
   "source": [
    "# train_dicts = df[categorical + numerical].to_dict(orient='records')\n",
    "train_dicts = df[categorical].to_dict(orient='records')"
   ]
  },
  {
   "cell_type": "code",
   "execution_count": 66,
   "id": "6ad8c866-a21e-4d52-b504-9a5d601759ae",
   "metadata": {},
   "outputs": [],
   "source": [
    "dv = DictVectorizer()\n",
    "X_train = dv.fit_transform(train_dicts)"
   ]
  },
  {
   "cell_type": "code",
   "execution_count": 67,
   "id": "6c8b1440-f926-44f4-8bf7-c68e6c20b171",
   "metadata": {},
   "outputs": [
    {
     "data": {
      "text/plain": [
       "<3009173x515 sparse matrix of type '<class 'numpy.float64'>'\n",
       "\twith 6018346 stored elements in Compressed Sparse Row format>"
      ]
     },
     "execution_count": 67,
     "metadata": {},
     "output_type": "execute_result"
    }
   ],
   "source": [
    "X_train"
   ]
  },
  {
   "cell_type": "code",
   "execution_count": 68,
   "id": "ccc8b84a-bf20-4102-a949-6f6de238ae25",
   "metadata": {},
   "outputs": [
    {
     "data": {
      "text/plain": [
       "7.649261927686161"
      ]
     },
     "execution_count": 68,
     "metadata": {},
     "output_type": "execute_result"
    }
   ],
   "source": [
    "target = 'duration'\n",
    "y_train = df[target].values\n",
    "\n",
    "lr = LinearRegression()\n",
    "lr.fit(X_train, y_train)\n",
    "\n",
    "y_pred = lr.predict(X_train)\n",
    "\n",
    "root_mean_squared_error(y_train, y_pred)"
   ]
  },
  {
   "cell_type": "markdown",
   "id": "9ffb08a8-93ad-47ec-adcd-486cd4dec068",
   "metadata": {},
   "source": [
    "# val"
   ]
  },
  {
   "cell_type": "code",
   "execution_count": 53,
   "id": "5f2b6536-80c3-4286-b264-3100831917ef",
   "metadata": {},
   "outputs": [],
   "source": [
    "df_val = read_dataframe('./yellow_tripdata_2023-02.parquet')"
   ]
  },
  {
   "cell_type": "code",
   "execution_count": 54,
   "id": "b25a9914-82b7-45cf-99cf-9f959d85904e",
   "metadata": {},
   "outputs": [],
   "source": [
    "df_val['duration'] = df_val.tpep_dropoff_datetime - df_val.tpep_pickup_datetime\n",
    "df_val.duration = df_val.duration.apply(lambda td: td.total_seconds() / 60)"
   ]
  },
  {
   "cell_type": "code",
   "execution_count": 56,
   "id": "df341247-9a96-4c3e-bcab-5a68604a0bde",
   "metadata": {},
   "outputs": [],
   "source": [
    "categorical = ['PULocationID', 'DOLocationID']\n",
    "# numerical = ['trip_distance']\n",
    "\n",
    "df_val[categorical] = df_val[categorical].astype(str)"
   ]
  },
  {
   "cell_type": "code",
   "execution_count": 57,
   "id": "cb27eca2-c8bc-4b96-8325-4f877b135da3",
   "metadata": {},
   "outputs": [],
   "source": [
    "# train_dicts = df[categorical + numerical].to_dict(orient='records')\n",
    "val_dicts = df_val[categorical].to_dict(orient='records')"
   ]
  },
  {
   "cell_type": "code",
   "execution_count": 69,
   "id": "2c4de47b-1911-43fc-80ec-0cb9a9ddb41a",
   "metadata": {},
   "outputs": [],
   "source": [
    "X_val = dv.transform(val_dicts)"
   ]
  },
  {
   "cell_type": "code",
   "execution_count": 70,
   "id": "785e3b4c-9b34-48b5-b7ed-83467ce3bf17",
   "metadata": {},
   "outputs": [
    {
     "data": {
      "text/plain": [
       "<2855951x515 sparse matrix of type '<class 'numpy.float64'>'\n",
       "\twith 5711894 stored elements in Compressed Sparse Row format>"
      ]
     },
     "execution_count": 70,
     "metadata": {},
     "output_type": "execute_result"
    }
   ],
   "source": [
    "X_val"
   ]
  },
  {
   "cell_type": "code",
   "execution_count": 71,
   "id": "cacd295b-f122-48e8-afe5-517fa0a14b19",
   "metadata": {},
   "outputs": [
    {
     "data": {
      "text/plain": [
       "7.811817957524739"
      ]
     },
     "execution_count": 71,
     "metadata": {},
     "output_type": "execute_result"
    }
   ],
   "source": [
    "target = 'duration'\n",
    "y_val = df_val[target].values\n",
    "\n",
    "y_pred = lr.predict(X_val)\n",
    "\n",
    "root_mean_squared_error(y_val, y_pred)"
   ]
  },
  {
   "cell_type": "code",
   "execution_count": null,
   "id": "47b0eb9b",
   "metadata": {},
   "outputs": [],
   "source": []
  }
 ],
 "metadata": {
  "kernelspec": {
   "display_name": "Python 3 (ipykernel)",
   "language": "python",
   "name": "python3"
  },
  "language_info": {
   "codemirror_mode": {
    "name": "ipython",
    "version": 3
   },
   "file_extension": ".py",
   "mimetype": "text/x-python",
   "name": "python",
   "nbconvert_exporter": "python",
   "pygments_lexer": "ipython3",
   "version": "3.12.7"
  }
 },
 "nbformat": 4,
 "nbformat_minor": 5
}
